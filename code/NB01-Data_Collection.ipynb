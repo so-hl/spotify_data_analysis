{
 "cells": [
  {
   "cell_type": "markdown",
   "metadata": {},
   "source": [
    "# 🚜 **Data Collection**\n"
   ]
  },
  {
   "cell_type": "markdown",
   "metadata": {},
   "source": [
    "### **NOTE**:\n",
    "\n",
    "**Spotify has [updated](https://developer.spotify.com/blog/2024-11-27-changes-to-the-web-api) its Web API policy and no longer allows for the extracting of `Audio Features`.**"
   ]
  },
  {
   "cell_type": "markdown",
   "metadata": {},
   "source": [
    "In this notebook, I used the requests library to collect data from the Spotify API and saved the individual raw JSON responses to files in the `data/raw/` directory. "
   ]
  },
  {
   "cell_type": "markdown",
   "metadata": {},
   "source": [
    "**Key content**:\n",
    "* `get_token()`: fetches the API token\n",
    "* `process_playlist(playlist_name, playlist_id, token)`: save `tracks` and `features` raw JSON files"
   ]
  },
  {
   "cell_type": "code",
   "execution_count": 1,
   "metadata": {},
   "outputs": [],
   "source": [
    "import logging\n",
    "from tqdm import tqdm\n",
    "from auth import get_token"
   ]
  },
  {
   "cell_type": "code",
   "execution_count": 2,
   "metadata": {},
   "outputs": [
    {
     "data": {
      "text/plain": [
       "<module 'my_functions_01' from '/Users/shl/Documents/lse/ds105/w10-summative-so-hl/code/my_functions_01.py'>"
      ]
     },
     "execution_count": 2,
     "metadata": {},
     "output_type": "execute_result"
    }
   ],
   "source": [
    "# Run this cell when new functions have been added to my_functions_01.py\n",
    "import importlib\n",
    "import my_functions_01\n",
    "importlib.reload(my_functions_01)"
   ]
  },
  {
   "cell_type": "markdown",
   "metadata": {},
   "source": [
    "### 💡Understanding the **Client Credentials** Flow"
   ]
  },
  {
   "cell_type": "markdown",
   "metadata": {},
   "source": [
    "The Client Credentials Flow is used when a client (e.g. Spotify's API) needs to authenticate itself to access its own resources. The main steps are:\n",
    "\n",
    "1. **Client sends a request to the authorisation server**: The request includes the client's `client_id` and `client_secret` provided by Spotify when creating the app.\n",
    "2. **Authorisation server validates the client**: Spotify's authorisation server checks the provided credentials, and if valid, issues an access token.\n",
    "3. **Client uses the access token**: The client can now use the access token to request resources, such as retrieving playlists, albums, or audio features from Spotify's API.\n",
    "\n",
    "![Client Credentials Flow](../assets/ccf.png)\n",
    "*Source: [Spotify for Developers](https://developer.spotify.com/documentation/web-api/tutorials/client-credentials-flow)*\n"
   ]
  },
  {
   "cell_type": "markdown",
   "metadata": {},
   "source": [
    "## **01 Authenticate and Get Access Token**  \n",
    "Using the requests library, I sent a `POST` request to Spotify's token endpoint."
   ]
  },
  {
   "cell_type": "code",
   "execution_count": 3,
   "metadata": {},
   "outputs": [],
   "source": [
    "# Get token\n",
    "token = get_token()"
   ]
  },
  {
   "cell_type": "markdown",
   "metadata": {},
   "source": [
    "## **02 Collect Raw Data**  \n",
    "I fetched data of playlists with **top songs globally**, in the **UK**, **US** and **Singapore**.\n",
    "\n",
    "**Playlists used:**  \n",
    "\n",
    "**Global**: Top 50-Global, Viral 50-Global, Today's Top Hits  \n",
    "\n",
    "**UK**: Top 50-UK, Viral 50-UK, Hot Hits UK  \n",
    "\n",
    "**USA**: Top 50-USA, Viral 50-USA, Top Songs-USA  \n",
    "\n",
    "**Singapore**: Top 50-Singapore, Viral 50-Singapore, Top Songs-Singapore"
   ]
  },
  {
   "cell_type": "code",
   "execution_count": 4,
   "metadata": {},
   "outputs": [],
   "source": [
    "# Define the playlist ID\n",
    "playlist_ids = {\n",
    "    \"Global\": {\n",
    "        \"Top50-Global\": \"37i9dQZEVXbMDoHDwVN2tF\",\n",
    "        \"Viral50-Global\": \"37i9dQZEVXbLiRSasKsNU9\",\n",
    "        \"Today's_Top_Hits\": \"37i9dQZF1DXcBWIGoYBM5M\"\n",
    "    },\n",
    "    \"UK\": {\n",
    "        \"Top50-UK\": \"37i9dQZEVXbLnolsZ8PSNw\",\n",
    "        \"Viral50-UK\": \"37i9dQZEVXbL3DLHfQeDmV\",\n",
    "        \"Hot_Hits_UK\": \"37i9dQZF1DWY4lFlS4Pnso\"\n",
    "    }, \n",
    "    \"USA\": {\n",
    "        \"Top50-USA\": \"37i9dQZEVXbLRQDuF5jeBp\",\n",
    "        \"Viral50-USA\": \"37i9dQZEVXbKuaTI1Z1Afx\",\n",
    "        \"Top_Songs-USA\": \"37i9dQZEVXbLp5XoPON0wI\"\n",
    "    },\n",
    "    \"Singapore\": {\n",
    "        \"Top50-Singapore\": \"37i9dQZEVXbK4gjvS1FjPY\",\n",
    "        \"Viral50-Singapore\": \"37i9dQZEVXbJVi45MafAu0\",\n",
    "        \"Top_Songs-Singapore\": \"37i9dQZEVXbN66FupT0MuX\"\n",
    "    }\n",
    "}"
   ]
  },
  {
   "cell_type": "code",
   "execution_count": 5,
   "metadata": {},
   "outputs": [
    {
     "name": "stderr",
     "output_type": "stream",
     "text": [
      "Downloading albums:   0%|          | 0/4 [00:00<?, ?it/s]"
     ]
    },
    {
     "name": "stdout",
     "output_type": "stream",
     "text": [
      "Playlist data collected and saved to ../data/raw/Top50-Global_tracks.json at 2024-11-27 10:17:11.274625.\n",
      "Playlist data collected and saved to ../data/raw/Viral50-Global_tracks.json at 2024-11-27 10:17:11.959730.\n"
     ]
    },
    {
     "name": "stderr",
     "output_type": "stream",
     "text": [
      "Downloading albums:  25%|██▌       | 1/4 [00:01<00:05,  1.99s/it]"
     ]
    },
    {
     "name": "stdout",
     "output_type": "stream",
     "text": [
      "Playlist data collected and saved to ../data/raw/Today's_Top_Hits_tracks.json at 2024-11-27 10:17:12.604731.\n",
      "Playlist data collected and saved to ../data/raw/Top50-United_Kingdom_tracks.json at 2024-11-27 10:17:13.155032.\n",
      "Playlist data collected and saved to ../data/raw/Viral50-United_Kingdom_tracks.json at 2024-11-27 10:17:13.769491.\n",
      "Playlist data collected and saved to ../data/raw/Hot_Hits_UK_tracks.json at 2024-11-27 10:17:14.379364.\n"
     ]
    },
    {
     "name": "stderr",
     "output_type": "stream",
     "text": [
      "Downloading albums:  50%|█████     | 2/4 [00:03<00:03,  1.92s/it]"
     ]
    },
    {
     "name": "stdout",
     "output_type": "stream",
     "text": [
      "Playlist data collected and saved to ../data/raw/Top50-USA_tracks.json at 2024-11-27 10:17:15.061672.\n",
      "Playlist data collected and saved to ../data/raw/Viral50-USA_tracks.json at 2024-11-27 10:17:15.601774.\n",
      "Playlist data collected and saved to ../data/raw/Top_Songs-USA_tracks.json at 2024-11-27 10:17:16.111979.\n"
     ]
    },
    {
     "name": "stderr",
     "output_type": "stream",
     "text": [
      "Downloading albums:  75%|███████▌  | 3/4 [00:05<00:01,  1.80s/it]"
     ]
    },
    {
     "name": "stdout",
     "output_type": "stream",
     "text": [
      "Playlist data collected and saved to ../data/raw/Top50-Singapore_tracks.json at 2024-11-27 10:17:16.703075.\n",
      "Playlist data collected and saved to ../data/raw/Viral50-Singapore_tracks.json at 2024-11-27 10:17:17.310503.\n",
      "Playlist data collected and saved to ../data/raw/Top_Songs-Singapore_tracks.json at 2024-11-27 10:17:17.834681.\n"
     ]
    },
    {
     "name": "stderr",
     "output_type": "stream",
     "text": [
      "Downloading albums: 100%|██████████| 4/4 [00:07<00:00,  1.88s/it]\n"
     ]
    }
   ],
   "source": [
    "# Save raw JSON files\n",
    "for region, playlists in tqdm(playlist_ids.items(), desc=f\"Downloading albums\"):\n",
    "    for playlist_name, playlist_id in playlists.items():\n",
    "        logging.info(f\"Processing playlist: {playlist_name} ({region})\")\n",
    "        my_functions_01.process_playlist(playlist_name, playlist_id, token)"
   ]
  }
 ],
 "metadata": {
  "kernelspec": {
   "display_name": "base",
   "language": "python",
   "name": "python3"
  },
  "language_info": {
   "codemirror_mode": {
    "name": "ipython",
    "version": 3
   },
   "file_extension": ".py",
   "mimetype": "text/x-python",
   "name": "python",
   "nbconvert_exporter": "python",
   "pygments_lexer": "ipython3",
   "version": "3.12.2"
  }
 },
 "nbformat": 4,
 "nbformat_minor": 2
}
